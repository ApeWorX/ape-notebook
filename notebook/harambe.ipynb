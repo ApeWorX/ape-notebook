{
 "cells": [
  {
   "cell_type": "code",
   "execution_count": 12,
   "id": "d10c8062",
   "metadata": {
    "pycharm": {
     "name": "#%%\n"
    }
   },
   "outputs": [],
   "source": [
    "from ape import networks, chain\n",
    "with networks.ethereum.mainnet.use_provider(\"infura\"):\n",
    "    df = chain.blocks.query(\"*\", start_block=0, stop_block=10)"
   ]
  },
  {
   "cell_type": "code",
   "execution_count": null,
   "id": "4a618706",
   "metadata": {
    "pycharm": {
     "name": "#%%\n"
    }
   },
   "outputs": [],
   "source": [
    "from ape import accounts\n",
    "a = accounts[0]  # Load by index\n",
    "a = accounts[\"example.eth\"]  # or load by ENS/address\n",
    "a = accounts.load(\"alias\") # or load by alias"
   ]
  },
  {
   "cell_type": "code",
   "execution_count": null,
   "id": "2d0fab48",
   "metadata": {
    "pycharm": {
     "name": "#%%\n"
    }
   },
   "outputs": [],
   "source": [
    "from ape import project\n",
    "c = a.deploy(project.MyContract, ...)\n",
    "c.viewThis()  # Make Web3 calls\n",
    "c.doThat(sender=a)  # Make Web3 transactions\n",
    "assert c.MyEvent[-1].caller == a  # Search through Web3 events"
   ]
  },
  {
   "cell_type": "code",
   "execution_count": null,
   "id": "7fb436ae",
   "metadata": {
    "pycharm": {
     "name": "#%%\n"
    }
   },
   "outputs": [],
   "source": [
    "df"
   ]
  },
  {
   "cell_type": "code",
   "execution_count": 13,
   "id": "79164fd7",
   "metadata": {
    "pycharm": {
     "name": "#%%\n"
    }
   },
   "outputs": [
    {
     "data": {
      "text/html": [
       "<div>\n",
       "<style scoped>\n",
       "    .dataframe tbody tr th:only-of-type {\n",
       "        vertical-align: middle;\n",
       "    }\n",
       "\n",
       "    .dataframe tbody tr th {\n",
       "        vertical-align: top;\n",
       "    }\n",
       "\n",
       "    .dataframe thead th {\n",
       "        text-align: right;\n",
       "    }\n",
       "</style>\n",
       "<table border=\"1\" class=\"dataframe\">\n",
       "  <thead>\n",
       "    <tr style=\"text-align: right;\">\n",
       "      <th></th>\n",
       "      <th>gas_data</th>\n",
       "      <th>consensus_data</th>\n",
       "      <th>hash</th>\n",
       "      <th>number</th>\n",
       "      <th>parent_hash</th>\n",
       "      <th>size</th>\n",
       "      <th>timestamp</th>\n",
       "    </tr>\n",
       "  </thead>\n",
       "  <tbody>\n",
       "    <tr>\n",
       "      <th>0</th>\n",
       "      <td>{'gasLimit': 5000, 'gasUsed': 0}</td>\n",
       "      <td>{'difficulty': 17179869184, 'totalDifficulty':...</td>\n",
       "      <td>b'\\xd4\\xe5g@\\xf8v\\xae\\xf8\\xc0\\x10\\xb8j@\\xd5\\xf...</td>\n",
       "      <td>0</td>\n",
       "      <td>b'\\x00\\x00\\x00\\x00\\x00\\x00\\x00\\x00\\x00\\x00\\x00...</td>\n",
       "      <td>540</td>\n",
       "      <td>0</td>\n",
       "    </tr>\n",
       "    <tr>\n",
       "      <th>1</th>\n",
       "      <td>{'gasLimit': 5000, 'gasUsed': 0}</td>\n",
       "      <td>{'difficulty': 17171480576, 'totalDifficulty':...</td>\n",
       "      <td>b'\\x88\\xe9mE7\\xbe\\xa4\\xd9\\xc0]\\x12T\\x99\\x07\\xb...</td>\n",
       "      <td>1</td>\n",
       "      <td>b'\\xd4\\xe5g@\\xf8v\\xae\\xf8\\xc0\\x10\\xb8j@\\xd5\\xf...</td>\n",
       "      <td>537</td>\n",
       "      <td>1438269988</td>\n",
       "    </tr>\n",
       "    <tr>\n",
       "      <th>2</th>\n",
       "      <td>{'gasLimit': 5000, 'gasUsed': 0}</td>\n",
       "      <td>{'difficulty': 17163096064, 'totalDifficulty':...</td>\n",
       "      <td>b'\\xb4\\x95\\xa1\\xd7\\xe6f1R\\xae\\x92p\\x8d\\xa4\\x84...</td>\n",
       "      <td>2</td>\n",
       "      <td>b'\\x88\\xe9mE7\\xbe\\xa4\\xd9\\xc0]\\x12T\\x99\\x07\\xb...</td>\n",
       "      <td>544</td>\n",
       "      <td>1438270017</td>\n",
       "    </tr>\n",
       "    <tr>\n",
       "      <th>3</th>\n",
       "      <td>{'gasLimit': 5000, 'gasUsed': 0}</td>\n",
       "      <td>{'difficulty': 17154715646, 'totalDifficulty':...</td>\n",
       "      <td>b'=a\"f\\x0c\\xc8$7o\\x11\\xee\\x84/\\x83\\xad\\xdc5%\\x...</td>\n",
       "      <td>3</td>\n",
       "      <td>b'\\xb4\\x95\\xa1\\xd7\\xe6f1R\\xae\\x92p\\x8d\\xa4\\x84...</td>\n",
       "      <td>1079</td>\n",
       "      <td>1438270048</td>\n",
       "    </tr>\n",
       "    <tr>\n",
       "      <th>4</th>\n",
       "      <td>{'gasLimit': 5000, 'gasUsed': 0}</td>\n",
       "      <td>{'difficulty': 17146339321, 'totalDifficulty':...</td>\n",
       "      <td>b'#\\xad\\xf5\\xa3\\xbe\\x0fR5\\xb3iA\\xbc\\xb2\\x9bbPB...</td>\n",
       "      <td>4</td>\n",
       "      <td>b'=a\"f\\x0c\\xc8$7o\\x11\\xee\\x84/\\x83\\xad\\xdc5%\\x...</td>\n",
       "      <td>1079</td>\n",
       "      <td>1438270077</td>\n",
       "    </tr>\n",
       "    <tr>\n",
       "      <th>5</th>\n",
       "      <td>{'gasLimit': 5000, 'gasUsed': 0}</td>\n",
       "      <td>{'difficulty': 17154711556, 'totalDifficulty':...</td>\n",
       "      <td>b'\\xf3|c-6\\x1e\\n\\x93\\xf0\\x8b\\xa2\\x9b\\x1a,p\\x8d...</td>\n",
       "      <td>5</td>\n",
       "      <td>b'#\\xad\\xf5\\xa3\\xbe\\x0fR5\\xb3iA\\xbc\\xb2\\x9bbPB...</td>\n",
       "      <td>537</td>\n",
       "      <td>1438270083</td>\n",
       "    </tr>\n",
       "    <tr>\n",
       "      <th>6</th>\n",
       "      <td>{'gasLimit': 5000, 'gasUsed': 0}</td>\n",
       "      <td>{'difficulty': 17146335232, 'totalDifficulty':...</td>\n",
       "      <td>b'\\x1f\\x1a\\xed\\x8e6\\x94\\xa0gIl$\\x8ea\\x87\\x9c\\x...</td>\n",
       "      <td>6</td>\n",
       "      <td>b'\\xf3|c-6\\x1e\\n\\x93\\xf0\\x8b\\xa2\\x9b\\x1a,p\\x8d...</td>\n",
       "      <td>537</td>\n",
       "      <td>1438270107</td>\n",
       "    </tr>\n",
       "    <tr>\n",
       "      <th>7</th>\n",
       "      <td>{'gasLimit': 5000, 'gasUsed': 0}</td>\n",
       "      <td>{'difficulty': 17154707466, 'totalDifficulty':...</td>\n",
       "      <td>b'\\xe0\\xc7\\xc0\\xb4n\\x11k\\x87CT\\xdc\\xe6\\xf6K\\x8...</td>\n",
       "      <td>7</td>\n",
       "      <td>b'\\x1f\\x1a\\xed\\x8e6\\x94\\xa0gIl$\\x8ea\\x87\\x9c\\x...</td>\n",
       "      <td>1078</td>\n",
       "      <td>1438270110</td>\n",
       "    </tr>\n",
       "    <tr>\n",
       "      <th>8</th>\n",
       "      <td>{'gasLimit': 5000, 'gasUsed': 0}</td>\n",
       "      <td>{'difficulty': 17163083788, 'totalDifficulty':...</td>\n",
       "      <td>b',\\xe9CB\\xdf\\x18k\\xabAe\\xc2h\\xc4:\\xb9\\x82\\xd3...</td>\n",
       "      <td>8</td>\n",
       "      <td>b'\\xe0\\xc7\\xc0\\xb4n\\x11k\\x87CT\\xdc\\xe6\\xf6K\\x8...</td>\n",
       "      <td>537</td>\n",
       "      <td>1438270112</td>\n",
       "    </tr>\n",
       "    <tr>\n",
       "      <th>9</th>\n",
       "      <td>{'gasLimit': 5000, 'gasUsed': 0}</td>\n",
       "      <td>{'difficulty': 17171464200, 'totalDifficulty':...</td>\n",
       "      <td>b'\\x99~G\\xbfL\\xacP\\x9cbwS\\xc0c\\x85\\xac\\x86fA\\x...</td>\n",
       "      <td>9</td>\n",
       "      <td>b',\\xe9CB\\xdf\\x18k\\xabAe\\xc2h\\xc4:\\xb9\\x82\\xd3...</td>\n",
       "      <td>544</td>\n",
       "      <td>1438270115</td>\n",
       "    </tr>\n",
       "    <tr>\n",
       "      <th>10</th>\n",
       "      <td>{'gasLimit': 5000, 'gasUsed': 0}</td>\n",
       "      <td>{'difficulty': 17163079696, 'totalDifficulty':...</td>\n",
       "      <td>b'O\\xf4\\xa3\\x8b\\'\\x8a\\xb4\\x9fw9\\xd3\\xa4\\xedN\\x...</td>\n",
       "      <td>10</td>\n",
       "      <td>b'\\x99~G\\xbfL\\xacP\\x9cbwS\\xc0c\\x85\\xac\\x86fA\\x...</td>\n",
       "      <td>537</td>\n",
       "      <td>1438270128</td>\n",
       "    </tr>\n",
       "  </tbody>\n",
       "</table>\n",
       "</div>"
      ],
      "text/plain": [
       "                            gas_data  \\\n",
       "0   {'gasLimit': 5000, 'gasUsed': 0}   \n",
       "1   {'gasLimit': 5000, 'gasUsed': 0}   \n",
       "2   {'gasLimit': 5000, 'gasUsed': 0}   \n",
       "3   {'gasLimit': 5000, 'gasUsed': 0}   \n",
       "4   {'gasLimit': 5000, 'gasUsed': 0}   \n",
       "5   {'gasLimit': 5000, 'gasUsed': 0}   \n",
       "6   {'gasLimit': 5000, 'gasUsed': 0}   \n",
       "7   {'gasLimit': 5000, 'gasUsed': 0}   \n",
       "8   {'gasLimit': 5000, 'gasUsed': 0}   \n",
       "9   {'gasLimit': 5000, 'gasUsed': 0}   \n",
       "10  {'gasLimit': 5000, 'gasUsed': 0}   \n",
       "\n",
       "                                       consensus_data  \\\n",
       "0   {'difficulty': 17179869184, 'totalDifficulty':...   \n",
       "1   {'difficulty': 17171480576, 'totalDifficulty':...   \n",
       "2   {'difficulty': 17163096064, 'totalDifficulty':...   \n",
       "3   {'difficulty': 17154715646, 'totalDifficulty':...   \n",
       "4   {'difficulty': 17146339321, 'totalDifficulty':...   \n",
       "5   {'difficulty': 17154711556, 'totalDifficulty':...   \n",
       "6   {'difficulty': 17146335232, 'totalDifficulty':...   \n",
       "7   {'difficulty': 17154707466, 'totalDifficulty':...   \n",
       "8   {'difficulty': 17163083788, 'totalDifficulty':...   \n",
       "9   {'difficulty': 17171464200, 'totalDifficulty':...   \n",
       "10  {'difficulty': 17163079696, 'totalDifficulty':...   \n",
       "\n",
       "                                                 hash  number  \\\n",
       "0   b'\\xd4\\xe5g@\\xf8v\\xae\\xf8\\xc0\\x10\\xb8j@\\xd5\\xf...       0   \n",
       "1   b'\\x88\\xe9mE7\\xbe\\xa4\\xd9\\xc0]\\x12T\\x99\\x07\\xb...       1   \n",
       "2   b'\\xb4\\x95\\xa1\\xd7\\xe6f1R\\xae\\x92p\\x8d\\xa4\\x84...       2   \n",
       "3   b'=a\"f\\x0c\\xc8$7o\\x11\\xee\\x84/\\x83\\xad\\xdc5%\\x...       3   \n",
       "4   b'#\\xad\\xf5\\xa3\\xbe\\x0fR5\\xb3iA\\xbc\\xb2\\x9bbPB...       4   \n",
       "5   b'\\xf3|c-6\\x1e\\n\\x93\\xf0\\x8b\\xa2\\x9b\\x1a,p\\x8d...       5   \n",
       "6   b'\\x1f\\x1a\\xed\\x8e6\\x94\\xa0gIl$\\x8ea\\x87\\x9c\\x...       6   \n",
       "7   b'\\xe0\\xc7\\xc0\\xb4n\\x11k\\x87CT\\xdc\\xe6\\xf6K\\x8...       7   \n",
       "8   b',\\xe9CB\\xdf\\x18k\\xabAe\\xc2h\\xc4:\\xb9\\x82\\xd3...       8   \n",
       "9   b'\\x99~G\\xbfL\\xacP\\x9cbwS\\xc0c\\x85\\xac\\x86fA\\x...       9   \n",
       "10  b'O\\xf4\\xa3\\x8b\\'\\x8a\\xb4\\x9fw9\\xd3\\xa4\\xedN\\x...      10   \n",
       "\n",
       "                                          parent_hash  size   timestamp  \n",
       "0   b'\\x00\\x00\\x00\\x00\\x00\\x00\\x00\\x00\\x00\\x00\\x00...   540           0  \n",
       "1   b'\\xd4\\xe5g@\\xf8v\\xae\\xf8\\xc0\\x10\\xb8j@\\xd5\\xf...   537  1438269988  \n",
       "2   b'\\x88\\xe9mE7\\xbe\\xa4\\xd9\\xc0]\\x12T\\x99\\x07\\xb...   544  1438270017  \n",
       "3   b'\\xb4\\x95\\xa1\\xd7\\xe6f1R\\xae\\x92p\\x8d\\xa4\\x84...  1079  1438270048  \n",
       "4   b'=a\"f\\x0c\\xc8$7o\\x11\\xee\\x84/\\x83\\xad\\xdc5%\\x...  1079  1438270077  \n",
       "5   b'#\\xad\\xf5\\xa3\\xbe\\x0fR5\\xb3iA\\xbc\\xb2\\x9bbPB...   537  1438270083  \n",
       "6   b'\\xf3|c-6\\x1e\\n\\x93\\xf0\\x8b\\xa2\\x9b\\x1a,p\\x8d...   537  1438270107  \n",
       "7   b'\\x1f\\x1a\\xed\\x8e6\\x94\\xa0gIl$\\x8ea\\x87\\x9c\\x...  1078  1438270110  \n",
       "8   b'\\xe0\\xc7\\xc0\\xb4n\\x11k\\x87CT\\xdc\\xe6\\xf6K\\x8...   537  1438270112  \n",
       "9   b',\\xe9CB\\xdf\\x18k\\xabAe\\xc2h\\xc4:\\xb9\\x82\\xd3...   544  1438270115  \n",
       "10  b'\\x99~G\\xbfL\\xacP\\x9cbwS\\xc0c\\x85\\xac\\x86fA\\x...   537  1438270128  "
      ]
     },
     "execution_count": 13,
     "metadata": {},
     "output_type": "execute_result"
    }
   ],
   "source": [
    "df"
   ]
  },
  {
   "cell_type": "code",
   "execution_count": null,
   "id": "262a1bec",
   "metadata": {
    "pycharm": {
     "name": "#%%\n"
    }
   },
   "outputs": [],
   "source": []
  },
  {
   "cell_type": "code",
   "execution_count": null,
   "id": "0f7b05ca",
   "metadata": {},
   "outputs": [],
   "source": []
  }
 ],
 "metadata": {
  "kernelspec": {
   "display_name": "ape",
   "language": "python",
   "name": "ape"
  },
  "language_info": {
   "codemirror_mode": {
    "name": "ipython",
    "version": 3
   },
   "file_extension": ".py",
   "mimetype": "text/x-python",
   "name": "python",
   "nbconvert_exporter": "python",
   "pygments_lexer": "ipython3",
   "version": "3.8.10"
  }
 },
 "nbformat": 4,
 "nbformat_minor": 5
}
