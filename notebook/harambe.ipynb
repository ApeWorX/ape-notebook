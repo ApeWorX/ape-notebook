{
 "cells": [
  {
   "cell_type": "code",
   "execution_count": null,
   "metadata": {
    "collapsed": true,
    "pycharm": {
     "name": "#%%\n"
    }
   },
   "outputs": [],
   "source": [
    "# You can work with registered networks, providers, and blockchain ecosystems (like Ethereum)\n",
    "\n",
    "from ape import networks\n",
    "with networks.ethereum.mainnet.use_provider(\"infura\"):\n",
    "    ... # Work with the infura provider here"
   ]
  },
  {
   "cell_type": "code",
   "execution_count": null,
   "outputs": [],
   "source": [
    "# You can work with the test accounts, local accounts and (WIP) popular hardware wallets\n",
    "\n",
    "from ape import accounts\n",
    "a = accounts[0]  # Load by index\n",
    "a = accounts[\"example.eth\"]  # or load by ENS/address\n",
    "a = accounts.load(\"alias\") # or load by alias"
   ],
   "metadata": {
    "collapsed": false,
    "pycharm": {
     "name": "#%%\n"
    }
   }
  },
  {
   "cell_type": "code",
   "execution_count": null,
   "outputs": [],
   "source": [
    "# You can work with contract types\n",
    "\n",
    "from ape import project\n",
    "c = a.deploy(project.MyContract, ...)\n",
    "c.viewThis()  # Make Web3 calls\n",
    "c.doThat(sender=a)  # Make Web3 transactions\n",
    "assert c.MyEvent[-1].caller == a  # Search through Web3 events"
   ],
   "metadata": {
    "collapsed": false,
    "pycharm": {
     "name": "#%%\n"
    }
   }
  }
 ],
 "metadata": {
  "kernelspec": {
   "display_name": "Python 3",
   "language": "python",
   "name": "python3"
  },
  "language_info": {
   "codemirror_mode": {
    "name": "ipython",
    "version": 2
   },
   "file_extension": ".py",
   "mimetype": "text/x-python",
   "name": "python",
   "nbconvert_exporter": "python",
   "pygments_lexer": "ipython2",
   "version": "2.7.6"
  }
 },
 "nbformat": 4,
 "nbformat_minor": 0
}