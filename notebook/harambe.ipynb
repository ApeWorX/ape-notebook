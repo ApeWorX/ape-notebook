{
 "cells": [
  {
   "cell_type": "code",
   "execution_count": null,
   "outputs": [],
   "source": [
    "from ape import networks\n",
    "with networks.ethereum.mainnet.use_provider(\"infura\"):\n",
    "    ...  # Work with the infura provider here"
   ],
   "metadata": {
    "collapsed": false,
    "pycharm": {
     "name": "#%%\n"
    }
   }
  },
  {
   "cell_type": "code",
   "execution_count": 1,
   "outputs": [
    {
     "ename": "ConversionError",
     "evalue": "No conversion registered to handle 'example.eth'.",
     "output_type": "error",
     "traceback": [
      "\u001B[0;31m---------------------------------------------------------------------------\u001B[0m",
      "\u001B[0;31mConversionError\u001B[0m                           Traceback (most recent call last)",
      "Input \u001B[0;32mIn [1]\u001B[0m, in \u001B[0;36m<cell line: 3>\u001B[0;34m()\u001B[0m\n\u001B[1;32m      1\u001B[0m \u001B[38;5;28;01mfrom\u001B[39;00m \u001B[38;5;21;01mape\u001B[39;00m \u001B[38;5;28;01mimport\u001B[39;00m accounts\n\u001B[1;32m      2\u001B[0m a \u001B[38;5;241m=\u001B[39m accounts[\u001B[38;5;241m0\u001B[39m]  \u001B[38;5;66;03m# Load by index\u001B[39;00m\n\u001B[0;32m----> 3\u001B[0m a \u001B[38;5;241m=\u001B[39m \u001B[43maccounts\u001B[49m\u001B[43m[\u001B[49m\u001B[38;5;124;43m\"\u001B[39;49m\u001B[38;5;124;43mexample.eth\u001B[39;49m\u001B[38;5;124;43m\"\u001B[39;49m\u001B[43m]\u001B[49m  \u001B[38;5;66;03m# or load by ENS/address\u001B[39;00m\n\u001B[1;32m      4\u001B[0m a \u001B[38;5;241m=\u001B[39m accounts\u001B[38;5;241m.\u001B[39mload(\u001B[38;5;124m\"\u001B[39m\u001B[38;5;124malias\u001B[39m\u001B[38;5;124m\"\u001B[39m)\n",
      "File \u001B[0;32m/usr/lib/python3.8/functools.py:912\u001B[0m, in \u001B[0;36msingledispatchmethod.__get__.<locals>._method\u001B[0;34m(*args, **kwargs)\u001B[0m\n\u001B[1;32m    910\u001B[0m \u001B[38;5;28;01mdef\u001B[39;00m \u001B[38;5;21m_method\u001B[39m(\u001B[38;5;241m*\u001B[39margs, \u001B[38;5;241m*\u001B[39m\u001B[38;5;241m*\u001B[39mkwargs):\n\u001B[1;32m    911\u001B[0m     method \u001B[38;5;241m=\u001B[39m \u001B[38;5;28mself\u001B[39m\u001B[38;5;241m.\u001B[39mdispatcher\u001B[38;5;241m.\u001B[39mdispatch(args[\u001B[38;5;241m0\u001B[39m]\u001B[38;5;241m.\u001B[39m\u001B[38;5;18m__class__\u001B[39m)\n\u001B[0;32m--> 912\u001B[0m     \u001B[38;5;28;01mreturn\u001B[39;00m \u001B[43mmethod\u001B[49m\u001B[38;5;241;43m.\u001B[39;49m\u001B[38;5;21;43m__get__\u001B[39;49m\u001B[43m(\u001B[49m\u001B[43mobj\u001B[49m\u001B[43m,\u001B[49m\u001B[43m \u001B[49m\u001B[38;5;28;43mcls\u001B[39;49m\u001B[43m)\u001B[49m\u001B[43m(\u001B[49m\u001B[38;5;241;43m*\u001B[39;49m\u001B[43margs\u001B[49m\u001B[43m,\u001B[49m\u001B[43m \u001B[49m\u001B[38;5;241;43m*\u001B[39;49m\u001B[38;5;241;43m*\u001B[39;49m\u001B[43mkwargs\u001B[49m\u001B[43m)\u001B[49m\n",
      "File \u001B[0;32m~/.venv/ape-notebook/lib/python3.8/site-packages/ape/managers/accounts.py:289\u001B[0m, in \u001B[0;36mAccountManager.__getitem_str\u001B[0;34m(self, account_str)\u001B[0m\n\u001B[1;32m    276\u001B[0m \u001B[38;5;129m@__getitem__\u001B[39m\u001B[38;5;241m.\u001B[39mregister\n\u001B[1;32m    277\u001B[0m \u001B[38;5;28;01mdef\u001B[39;00m \u001B[38;5;21m__getitem_str\u001B[39m(\u001B[38;5;28mself\u001B[39m, account_str: \u001B[38;5;28mstr\u001B[39m) \u001B[38;5;241m-\u001B[39m\u001B[38;5;241m>\u001B[39m AccountAPI:\n\u001B[1;32m    278\u001B[0m     \u001B[38;5;124;03m\"\"\"\u001B[39;00m\n\u001B[1;32m    279\u001B[0m \u001B[38;5;124;03m    Get an account by address. If we are using a provider that supports unlocking\u001B[39;00m\n\u001B[1;32m    280\u001B[0m \u001B[38;5;124;03m    accounts, this method will return an impersonated account at that address.\u001B[39;00m\n\u001B[0;32m   (...)\u001B[0m\n\u001B[1;32m    286\u001B[0m \u001B[38;5;124;03m        :class:`~ape.api.accounts.AccountAPI`\u001B[39;00m\n\u001B[1;32m    287\u001B[0m \u001B[38;5;124;03m    \"\"\"\u001B[39;00m\n\u001B[0;32m--> 289\u001B[0m     account_id \u001B[38;5;241m=\u001B[39m \u001B[38;5;28;43mself\u001B[39;49m\u001B[38;5;241;43m.\u001B[39;49m\u001B[43mconversion_manager\u001B[49m\u001B[38;5;241;43m.\u001B[39;49m\u001B[43mconvert\u001B[49m\u001B[43m(\u001B[49m\u001B[43maccount_str\u001B[49m\u001B[43m,\u001B[49m\u001B[43m \u001B[49m\u001B[43mAddressType\u001B[49m\u001B[43m)\u001B[49m\n\u001B[1;32m    291\u001B[0m     \u001B[38;5;28;01mfor\u001B[39;00m container \u001B[38;5;129;01min\u001B[39;00m \u001B[38;5;28mself\u001B[39m\u001B[38;5;241m.\u001B[39mcontainers\u001B[38;5;241m.\u001B[39mvalues():\n\u001B[1;32m    292\u001B[0m         \u001B[38;5;28;01mif\u001B[39;00m account_id \u001B[38;5;129;01min\u001B[39;00m container\u001B[38;5;241m.\u001B[39maccounts:\n",
      "File \u001B[0;32m~/.venv/ape-notebook/lib/python3.8/site-packages/ape/managers/converters.py:251\u001B[0m, in \u001B[0;36mConversionManager.convert\u001B[0;34m(self, value, type)\u001B[0m\n\u001B[1;32m    248\u001B[0m     \u001B[38;5;28;01mif\u001B[39;00m converter\u001B[38;5;241m.\u001B[39mis_convertible(value):\n\u001B[1;32m    249\u001B[0m         \u001B[38;5;28;01mreturn\u001B[39;00m converter\u001B[38;5;241m.\u001B[39mconvert(value)\n\u001B[0;32m--> 251\u001B[0m \u001B[38;5;28;01mraise\u001B[39;00m ConversionError(\u001B[38;5;124mf\u001B[39m\u001B[38;5;124m\"\u001B[39m\u001B[38;5;124mNo conversion registered to handle \u001B[39m\u001B[38;5;124m'\u001B[39m\u001B[38;5;132;01m{\u001B[39;00mvalue\u001B[38;5;132;01m}\u001B[39;00m\u001B[38;5;124m'\u001B[39m\u001B[38;5;124m.\u001B[39m\u001B[38;5;124m\"\u001B[39m)\n",
      "\u001B[0;31mConversionError\u001B[0m: No conversion registered to handle 'example.eth'."
     ]
    }
   ],
   "source": [
    "from ape import accounts\n",
    "a = accounts[0]  # Load by index\n",
    "a = accounts[\"example.eth\"]  # or load by ENS/address\n",
    "a = accounts.load(\"alias\") # or load by alias"
   ],
   "metadata": {
    "collapsed": false,
    "pycharm": {
     "name": "#%%\n"
    }
   }
  },
  {
   "cell_type": "code",
   "execution_count": 2,
   "outputs": [
    {
     "ename": "AttributeError",
     "evalue": "'ProjectManager' object has no attribute 'MyContract'",
     "output_type": "error",
     "traceback": [
      "\u001B[0;31m---------------------------------------------------------------------------\u001B[0m",
      "\u001B[0;31mAttributeError\u001B[0m                            Traceback (most recent call last)",
      "Input \u001B[0;32mIn [2]\u001B[0m, in \u001B[0;36m<cell line: 2>\u001B[0;34m()\u001B[0m\n\u001B[1;32m      1\u001B[0m \u001B[38;5;28;01mfrom\u001B[39;00m \u001B[38;5;21;01mape\u001B[39;00m \u001B[38;5;28;01mimport\u001B[39;00m project\n\u001B[0;32m----> 2\u001B[0m c \u001B[38;5;241m=\u001B[39m a\u001B[38;5;241m.\u001B[39mdeploy(\u001B[43mproject\u001B[49m\u001B[38;5;241;43m.\u001B[39;49m\u001B[43mMyContract\u001B[49m, \u001B[38;5;241m.\u001B[39m\u001B[38;5;241m.\u001B[39m\u001B[38;5;241m.\u001B[39m)\n\u001B[1;32m      3\u001B[0m c\u001B[38;5;241m.\u001B[39mviewThis()  \u001B[38;5;66;03m# Make Web3 calls\u001B[39;00m\n\u001B[1;32m      4\u001B[0m c\u001B[38;5;241m.\u001B[39mdoThat(sender\u001B[38;5;241m=\u001B[39ma)  \u001B[38;5;66;03m# Make Web3 transactions\u001B[39;00m\n",
      "File \u001B[0;32m~/.venv/ape-notebook/lib/python3.8/site-packages/ape/managers/project/manager.py:268\u001B[0m, in \u001B[0;36mProjectManager.__getattr__\u001B[0;34m(self, attr_name)\u001B[0m\n\u001B[1;32m    264\u001B[0m contract \u001B[38;5;241m=\u001B[39m \u001B[38;5;28mself\u001B[39m\u001B[38;5;241m.\u001B[39m_get_contract(attr_name)\n\u001B[1;32m    265\u001B[0m \u001B[38;5;28;01mif\u001B[39;00m \u001B[38;5;129;01mnot\u001B[39;00m contract:\n\u001B[1;32m    266\u001B[0m     \u001B[38;5;66;03m# Fixes anomaly when accessing non-ContractType attributes.\u001B[39;00m\n\u001B[1;32m    267\u001B[0m     \u001B[38;5;66;03m# Returns normal attribute if exists. Raises 'AttributeError' otherwise.\u001B[39;00m\n\u001B[0;32m--> 268\u001B[0m     \u001B[38;5;28;01mreturn\u001B[39;00m \u001B[38;5;28;43mself\u001B[39;49m\u001B[38;5;241;43m.\u001B[39;49m\u001B[38;5;21;43m__getattribute__\u001B[39;49m\u001B[43m(\u001B[49m\u001B[43mattr_name\u001B[49m\u001B[43m)\u001B[49m  \u001B[38;5;66;03m# type: ignore\u001B[39;00m\n\u001B[1;32m    270\u001B[0m \u001B[38;5;28;01mreturn\u001B[39;00m contract\n",
      "\u001B[0;31mAttributeError\u001B[0m: 'ProjectManager' object has no attribute 'MyContract'"
     ]
    }
   ],
   "source": [
    "from ape import project\n",
    "c = a.deploy(project.MyContract, ...)\n",
    "c.viewThis()  # Make Web3 calls\n",
    "c.doThat(sender=a)  # Make Web3 transactions\n",
    "assert c.MyEvent[-1].caller == a  # Search through Web3 events"
   ],
   "metadata": {
    "collapsed": false,
    "pycharm": {
     "name": "#%%\n"
    }
   }
  },
  {
   "cell_type": "code",
   "execution_count": null,
   "outputs": [],
   "source": [],
   "metadata": {
    "collapsed": false,
    "pycharm": {
     "name": "#%%\n"
    }
   }
  },
  {
   "cell_type": "code",
   "execution_count": null,
   "outputs": [],
   "source": [],
   "metadata": {
    "collapsed": false,
    "pycharm": {
     "name": "#%%\n"
    }
   }
  },
  {
   "cell_type": "code",
   "execution_count": null,
   "id": "0f7b05ca",
   "metadata": {},
   "outputs": [],
   "source": []
  }
 ],
 "metadata": {
  "kernelspec": {
   "display_name": "ape",
   "language": "python",
   "name": "ape"
  },
  "language_info": {
   "codemirror_mode": {
    "name": "ipython",
    "version": 3
   },
   "file_extension": ".py",
   "mimetype": "text/x-python",
   "name": "python",
   "nbconvert_exporter": "python",
   "pygments_lexer": "ipython3",
   "version": "3.8.10"
  }
 },
 "nbformat": 4,
 "nbformat_minor": 5
}